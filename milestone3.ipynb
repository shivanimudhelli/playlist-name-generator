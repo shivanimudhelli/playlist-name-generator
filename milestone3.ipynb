{
 "cells": [
  {
   "cell_type": "code",
   "execution_count": 24,
   "metadata": {},
   "outputs": [],
   "source": [
    "import json\n",
    "import pandas as pd\n",
    "import random\n",
    "import csv\n",
    "import tensorflow as tf\n",
    "\n",
    "\n",
    "\n",
    "\n"
   ]
  },
  {
   "cell_type": "code",
   "execution_count": 25,
   "metadata": {},
   "outputs": [],
   "source": [
    "from keras.backend import set_session\n"
   ]
  },
  {
   "cell_type": "code",
   "execution_count": 26,
   "metadata": {},
   "outputs": [],
   "source": [
    "from textgenrnn import textgenrnn\n"
   ]
  },
  {
   "cell_type": "code",
   "execution_count": 27,
   "metadata": {},
   "outputs": [],
   "source": [
    "# spotify api support\n",
    "import spotipy\n",
    "from spotipy.oauth2 import SpotifyClientCredentials\n",
    "cid = '00822523dd374aaebf7329a4ef1bca29'\n",
    "secret = 'febb9f5d31fb4243a41e07140b830a61'\n",
    "\n",
    "client_credentials_manager = SpotifyClientCredentials(client_id=cid, client_secret=secret)\n",
    "sp = spotipy.Spotify(client_credentials_manager=client_credentials_manager)\n",
    "\n"
   ]
  },
  {
   "cell_type": "code",
   "execution_count": 28,
   "metadata": {},
   "outputs": [],
   "source": [
    "# user_tracks = list()\n",
    "# for track in sp.playlist_tracks(playlist_link, limit=1000)[\"items\"]:\n",
    "#     user_tracks.append(track[\"track\"][\"name\"])\n",
    "# print(user_tracks)\n",
    "# print(len(user_tracks))"
   ]
  },
  {
   "cell_type": "code",
   "execution_count": 29,
   "metadata": {},
   "outputs": [],
   "source": [
    "playlist_link = input(\"Hello! Enter the link to your Spotify playlist: \")\n",
    "username = input(\"Enter username:\")\n",
    "user_tracks = ()\n",
    "def get_playlist_tracks(username,playlist_link):\n",
    "    results = sp.user_playlist_tracks(username,playlist_link)\n",
    "    tracks = results['items']\n",
    "    while results['next']:\n",
    "        results = sp.next(results)\n",
    "        tracks.extend(results['items'])\n",
    "    return tracks\n",
    "\n",
    "user_tracks = get_playlist_tracks(username, playlist_link)\n"
   ]
  },
  {
   "cell_type": "code",
   "execution_count": null,
   "metadata": {},
   "outputs": [],
   "source": [
    "f = open(\"/Users/shivanimudhelli/Downloads/spotify_million_playlist_dataset_challenge (1)/challenge_set.json\")"
   ]
  },
  {
   "cell_type": "code",
   "execution_count": null,
   "metadata": {},
   "outputs": [],
   "source": [
    "data = json.load(f)"
   ]
  },
  {
   "cell_type": "code",
   "execution_count": null,
   "metadata": {},
   "outputs": [
    {
     "name": "stdout",
     "output_type": "stream",
     "text": [
      "total num  10000\n",
      "not empty  9000\n"
     ]
    }
   ],
   "source": [
    "playlists = data['playlists']\n",
    "#print(len(data['playlists']))\n",
    "has_tracks = []\n",
    "print('total num ', len(playlists))\n",
    "\n",
    "for i in playlists:\n",
    "    if len(i['tracks']) != 0:\n",
    "        has_tracks.append(i)\n",
    "\n",
    "print('not empty ', len(has_tracks))"
   ]
  },
  {
   "cell_type": "code",
   "execution_count": null,
   "metadata": {},
   "outputs": [],
   "source": [
    "def track_list(tracks):\n",
    "    track_arr = []\n",
    "    for i in tracks:\n",
    "        track_arr.append(i['track_name'])\n",
    "\n",
    "    #print(track_arr)\n",
    "    return track_arr\n",
    "\n",
    "\n",
    "\n",
    "\n"
   ]
  },
  {
   "cell_type": "code",
   "execution_count": null,
   "metadata": {},
   "outputs": [],
   "source": [
    "def modify_data(name, tracklist):\n",
    "    new_dict = {}\n",
    "    new_dict['p_name'] = name\n",
    "    new_dict['tracks'] = tracklist\n",
    "    #print(new_dict)\n",
    "    return new_dict\n",
    "\n",
    "all_dicts = []\n",
    "all_tracks = []\n",
    "\n",
    "#print(has_tracks[1000])\n",
    "for p in has_tracks:\n",
    "    tarr = track_list(p['tracks'])\n",
    "    for t in tarr:\n",
    "        all_tracks.append(t)\n",
    "    \n",
    "    if('name' in p):\n",
    "        d = modify_data(p['name'], tarr)\n",
    "        all_dicts.append(d)\n",
    "        #print(len(all_dicts))\n",
    "\n",
    "\n",
    "#print(all_dicts)\n",
    "# print(type(all_tracks))\n"
   ]
  },
  {
   "cell_type": "code",
   "execution_count": null,
   "metadata": {},
   "outputs": [
    {
     "name": "stdout",
     "output_type": "stream",
     "text": [
      "['P.I.M.P.', 'Killing Me Softly With His Song', 'Only Thing I Ever Get For Christmas', 'Bump, Bump, Bump', 'Marvin Gaye (feat. Wale) - Remix', 'Simple Things (Remix)', 'Girls Your Age', 'Slow Dancing in a Burning Room', 'Feeling Good', 'Slippery (feat. Gucci Mane)']\n"
     ]
    }
   ],
   "source": [
    "\n",
    "\n",
    "def generate_random_tracklists(all_tracks):\n",
    "    rand_lst = random.sample(all_tracks, k=10)\n",
    "\n",
    "    return rand_lst\n",
    "\n",
    "rl = generate_random_tracklists(all_tracks)\n",
    "print(rl)"
   ]
  },
  {
   "cell_type": "code",
   "execution_count": null,
   "metadata": {},
   "outputs": [
    {
     "name": "stdout",
     "output_type": "stream",
     "text": [
      "8430\n"
     ]
    }
   ],
   "source": [
    "# open the file in the write mode\n",
    "# with open(r\"C:\\Users\\smudhelli2\\Desktop\\all_tracks.csv\", 'w', newline='', encoding=\"utf-8\") as h:\n",
    "\n",
    "#     # create the csv writer\n",
    "#     writer = csv.writer(h)\n",
    "\n",
    "#     # write a row to the csv file\n",
    "#     writer.writerow(all_tracks)\n",
    "\n",
    "# # close the file\n",
    "# h.close()\n",
    "\n",
    "all_tracks_sample = random.sample(all_tracks, k=int((len(all_tracks)*.03)))\n",
    "print(len(all_tracks_sample))\n",
    "\n",
    "h = open(\"/Users/shivanimudhelli/Desktop/MLProject/all_tracks.csv\", 'w', newline='', encoding=\"utf-8\")\n",
    "writer = csv.writer(h)\n",
    "for row_track in user_tracks:\n",
    "    writer.writerow([row_track])\n",
    "h.close()\n"
   ]
  },
  {
   "cell_type": "code",
   "execution_count": null,
   "metadata": {},
   "outputs": [
    {
     "name": "stdout",
     "output_type": "stream",
     "text": [
      "99 texts collected.\n",
      "Training on 1,824 character sequences.\n",
      "Epoch 1/3\n"
     ]
    },
    {
     "name": "stderr",
     "output_type": "stream",
     "text": [
      "2023-04-29 14:36:38.055696: W tensorflow/core/platform/profile_utils/cpu_utils.cc:128] Failed to get CPU frequency: 0 Hz\n"
     ]
    },
    {
     "name": "stdout",
     "output_type": "stream",
     "text": [
      "14/14 [==============================] - ETA: 0s - loss: 1.9653####################\n",
      "Temperature: 0.2\n",
      "####################\n",
      "Something It See From Me (feat\n",
      "\n",
      "The Life Say\n",
      "\n",
      "Something It See In Me (feat. I feat.)\n",
      "\n",
      "####################\n",
      "Temperature: 0.5\n",
      "####################\n",
      "A Love Me (2017 X (or in a feat. Something)\n",
      "\n",
      "The Distrost\n",
      "\n",
      "Me (2012)\n",
      "\n",
      "####################\n",
      "Temperature: 1.0\n",
      "####################\n",
      "[NA] Jon-Call Your Bill My Highlight\n",
      "\n",
      "I am NBI\n",
      "\n",
      "On Sloot\n",
      "\n",
      "14/14 [==============================] - 7s 417ms/step - loss: 1.9653 - lr: 0.0040\n",
      "Epoch 2/3\n",
      "14/14 [==============================] - ETA: 0s - loss: 1.3877####################\n",
      "Temperature: 0.2\n",
      "####################\n",
      "Some Life\n",
      "\n",
      "Something You Can Tell You To You See\n",
      "\n",
      "Something You See You See You (feat. The Me)\n",
      "\n",
      "####################\n",
      "Temperature: 0.5\n",
      "####################\n",
      "All Matter A Might (feat. 2012)\n",
      "\n",
      "I See You Like You Can You See You Demand\n",
      "\n",
      "I (feat. Says)\n",
      "\n",
      "####################\n",
      "Temperature: 1.0\n",
      "####################\n",
      "Highligge\n",
      "\n",
      "Anythin Mobilies\n",
      "\n",
      "Space Confirmed\n",
      "\n",
      "14/14 [==============================] - 5s 400ms/step - loss: 1.3877 - lr: 0.0027\n",
      "Epoch 3/3\n",
      "14/14 [==============================] - ETA: 0s - loss: 1.1806####################\n",
      "Temperature: 0.2\n",
      "####################\n",
      "I Was Fired\n",
      "\n",
      "Something You See You (feat. The Me)\n",
      "\n",
      "Love You See You (feat. The Moders)\n",
      "\n",
      "####################\n",
      "Temperature: 0.5\n",
      "####################\n",
      "Jason Lay Headline\n",
      "\n",
      "Sean Me\n",
      "\n",
      "Billionaire - Loval\n",
      "\n",
      "####################\n",
      "Temperature: 1.0\n",
      "####################\n",
      "How Tries - Chill It (Ditto To Good)\n",
      "\n",
      "You Don’t See You\n",
      "\n",
      "Moti Warrant.\n",
      "\n",
      "14/14 [==============================] - 5s 367ms/step - loss: 1.1806 - lr: 0.0013\n"
     ]
    },
    {
     "name": "stderr",
     "output_type": "stream",
     "text": [
      " 20%|██        | 1/5 [00:00<00:00,  7.86it/s]"
     ]
    },
    {
     "name": "stdout",
     "output_type": "stream",
     "text": [
      "Summer\n",
      "\n"
     ]
    },
    {
     "name": "stderr",
     "output_type": "stream",
     "text": [
      " 40%|████      | 2/5 [00:00<00:00,  4.07it/s]"
     ]
    },
    {
     "name": "stdout",
     "output_type": "stream",
     "text": [
      "A Lib (feat. Jonver)\n",
      "\n"
     ]
    },
    {
     "name": "stderr",
     "output_type": "stream",
     "text": [
      " 60%|██████    | 3/5 [00:00<00:00,  4.03it/s]"
     ]
    },
    {
     "name": "stdout",
     "output_type": "stream",
     "text": [
      "8 Year Old Life\n",
      "\n"
     ]
    },
    {
     "name": "stderr",
     "output_type": "stream",
     "text": [
      " 80%|████████  | 4/5 [00:00<00:00,  3.81it/s]"
     ]
    },
    {
     "name": "stdout",
     "output_type": "stream",
     "text": [
      "How Jon To Summed\n",
      "\n"
     ]
    },
    {
     "name": "stderr",
     "output_type": "stream",
     "text": [
      "100%|██████████| 5/5 [00:02<00:00,  1.86it/s]"
     ]
    },
    {
     "name": "stdout",
     "output_type": "stream",
     "text": [
      "A Bitch feat. The Same I Don't See You Snap (feat. It feat. The 40st better and 50k sub pronounced (feat. Me)\n",
      "\n"
     ]
    },
    {
     "name": "stderr",
     "output_type": "stream",
     "text": [
      "\n"
     ]
    }
   ],
   "source": [
    "textgen = textgenrnn()\n",
    "textgen.train_from_file(\"/Users/shivanimudhelli/Desktop/MLProject/all_tracks.csv\", \n",
    "                        num_epochs=3,\n",
    "                        rnn_bidirectional = False,\n",
    "                        rnn_size = 64,\n",
    "                        dim_embeddings = 300)\n",
    "textgen.generate(5)"
   ]
  },
  {
   "cell_type": "code",
   "execution_count": null,
   "metadata": {},
   "outputs": [],
   "source": []
  }
 ],
 "metadata": {
  "kernelspec": {
   "display_name": "tensorflow",
   "language": "python",
   "name": "python3"
  },
  "language_info": {
   "codemirror_mode": {
    "name": "ipython",
    "version": 3
   },
   "file_extension": ".py",
   "mimetype": "text/x-python",
   "name": "python",
   "nbconvert_exporter": "python",
   "pygments_lexer": "ipython3",
   "version": "3.10.4"
  }
 },
 "nbformat": 4,
 "nbformat_minor": 2
}

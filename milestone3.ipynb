{
 "cells": [
  {
   "cell_type": "code",
   "execution_count": 1,
   "metadata": {},
   "outputs": [],
   "source": [
    "import json\n",
    "import pandas as pd\n",
    "import random\n",
    "import csv\n",
    "import tensorflow as tf\n",
    "\n",
    "\n",
    "\n",
    "\n"
   ]
  },
  {
   "cell_type": "code",
   "execution_count": 2,
   "metadata": {},
   "outputs": [],
   "source": [
    "from keras.backend import set_session\n"
   ]
  },
  {
   "cell_type": "code",
   "execution_count": 3,
   "metadata": {},
   "outputs": [
    {
     "name": "stderr",
     "output_type": "stream",
     "text": [
      "/Users/shivanimudhelli/miniforge3/envs/tensorflow/lib/python3.10/site-packages/keras/optimizer_v2/adam.py:105: UserWarning: The `lr` argument is deprecated, use `learning_rate` instead.\n",
      "  super(Adam, self).__init__(name, **kwargs)\n"
     ]
    }
   ],
   "source": [
    "from textgenrnn import textgenrnn\n"
   ]
  },
  {
   "cell_type": "code",
   "execution_count": 4,
   "metadata": {},
   "outputs": [],
   "source": [
    "# spotify api support\n",
    "import spotipy\n",
    "from spotipy.oauth2 import SpotifyClientCredentials\n",
    "cid = '00822523dd374aaebf7329a4ef1bca29'\n",
    "secret = 'febb9f5d31fb4243a41e07140b830a61'\n",
    "\n",
    "client_credentials_manager = SpotifyClientCredentials(client_id=cid, client_secret=secret)\n",
    "sp = spotipy.Spotify(client_credentials_manager=client_credentials_manager)\n",
    "\n"
   ]
  },
  {
   "cell_type": "code",
   "execution_count": 5,
   "metadata": {},
   "outputs": [],
   "source": [
    "playlist_link = input(\"Hello! Enter the link to your Spotify playlist: \")\n",
    "user_tracks = list()\n",
    "for track in sp.playlist_tracks(playlist_link)[\"items\"]:\n",
    "    # print(track[\"track\"][\"name\"])\n",
    "    user_tracks.append(track[\"track\"][\"name\"])\n"
   ]
  },
  {
   "cell_type": "code",
   "execution_count": 6,
   "metadata": {},
   "outputs": [],
   "source": [
    "f = open(\"/Users/shivanimudhelli/Downloads/spotify_million_playlist_dataset_challenge (1)/challenge_set.json\")"
   ]
  },
  {
   "cell_type": "code",
   "execution_count": 7,
   "metadata": {},
   "outputs": [],
   "source": [
    "data = json.load(f)"
   ]
  },
  {
   "cell_type": "code",
   "execution_count": 8,
   "metadata": {},
   "outputs": [
    {
     "name": "stdout",
     "output_type": "stream",
     "text": [
      "total num  10000\n",
      "not empty  9000\n"
     ]
    }
   ],
   "source": [
    "playlists = data['playlists']\n",
    "#print(len(data['playlists']))\n",
    "has_tracks = []\n",
    "print('total num ', len(playlists))\n",
    "\n",
    "for i in playlists:\n",
    "    if len(i['tracks']) != 0:\n",
    "        has_tracks.append(i)\n",
    "\n",
    "print('not empty ', len(has_tracks))"
   ]
  },
  {
   "cell_type": "code",
   "execution_count": 9,
   "metadata": {},
   "outputs": [],
   "source": [
    "def track_list(tracks):\n",
    "    track_arr = []\n",
    "    for i in tracks:\n",
    "        track_arr.append(i['track_name'])\n",
    "\n",
    "    #print(track_arr)\n",
    "    return track_arr\n",
    "\n",
    "\n",
    "\n",
    "\n"
   ]
  },
  {
   "cell_type": "code",
   "execution_count": 10,
   "metadata": {},
   "outputs": [],
   "source": [
    "def modify_data(name, tracklist):\n",
    "    new_dict = {}\n",
    "    new_dict['p_name'] = name\n",
    "    new_dict['tracks'] = tracklist\n",
    "    #print(new_dict)\n",
    "    return new_dict\n",
    "\n",
    "all_dicts = []\n",
    "all_tracks = []\n",
    "\n",
    "#print(has_tracks[1000])\n",
    "for p in has_tracks:\n",
    "    tarr = track_list(p['tracks'])\n",
    "    for t in tarr:\n",
    "        all_tracks.append(t)\n",
    "    \n",
    "    if('name' in p):\n",
    "        d = modify_data(p['name'], tarr)\n",
    "        all_dicts.append(d)\n",
    "        #print(len(all_dicts))\n",
    "\n",
    "\n",
    "#print(all_dicts)\n",
    "# print(type(all_tracks))\n"
   ]
  },
  {
   "cell_type": "code",
   "execution_count": 11,
   "metadata": {},
   "outputs": [
    {
     "name": "stdout",
     "output_type": "stream",
     "text": [
      "['Jealous - Remix', \"MC's Act Like They Don't Know\", 'Pleazer', 'Margaritaville', 'I Go Back', 'Trashwang', 'DWYCK - Feat. Nice and Smooth', 'Sabotage', 'Just a Dream', 'Teniéndote']\n"
     ]
    }
   ],
   "source": [
    "\n",
    "\n",
    "def generate_random_tracklists(all_tracks):\n",
    "    rand_lst = random.sample(all_tracks, k=10)\n",
    "\n",
    "    return rand_lst\n",
    "\n",
    "rl = generate_random_tracklists(all_tracks)\n",
    "print(rl)"
   ]
  },
  {
   "cell_type": "code",
   "execution_count": 12,
   "metadata": {},
   "outputs": [
    {
     "name": "stdout",
     "output_type": "stream",
     "text": [
      "8430\n"
     ]
    }
   ],
   "source": [
    "# open the file in the write mode\n",
    "# with open(r\"C:\\Users\\smudhelli2\\Desktop\\all_tracks.csv\", 'w', newline='', encoding=\"utf-8\") as h:\n",
    "\n",
    "#     # create the csv writer\n",
    "#     writer = csv.writer(h)\n",
    "\n",
    "#     # write a row to the csv file\n",
    "#     writer.writerow(all_tracks)\n",
    "\n",
    "# # close the file\n",
    "# h.close()\n",
    "\n",
    "all_tracks_sample = random.sample(all_tracks, k=int((len(all_tracks)*.03)))\n",
    "print(len(all_tracks_sample))\n",
    "\n",
    "h = open(\"/Users/shivanimudhelli/Desktop/MLProject/all_tracks.csv\", 'w', newline='', encoding=\"utf-8\")\n",
    "writer = csv.writer(h)\n",
    "for row_track in user_tracks:\n",
    "    writer.writerow([row_track])\n",
    "h.close()\n"
   ]
  },
  {
   "cell_type": "code",
   "execution_count": 13,
   "metadata": {},
   "outputs": [
    {
     "name": "stdout",
     "output_type": "stream",
     "text": [
      "52 texts collected.\n",
      "Training on 761 character sequences.\n",
      "Epoch 1/3\n"
     ]
    },
    {
     "name": "stderr",
     "output_type": "stream",
     "text": [
      "2023-04-29 14:11:30.321064: W tensorflow/core/platform/profile_utils/cpu_utils.cc:128] Failed to get CPU frequency: 0 Hz\n"
     ]
    },
    {
     "name": "stdout",
     "output_type": "stream",
     "text": [
      "5/5 [==============================] - ETA: 0s - loss: 2.1354####################\n",
      "Temperature: 0.2\n",
      "####################\n",
      "The Line To The Time In The Line\n",
      "\n",
      "The Little Time\n",
      "\n",
      "The Line At State For The Teaser That The First Time\n",
      "\n",
      "####################\n",
      "Temperature: 0.5\n",
      "####################\n",
      "Lighting\n",
      "\n",
      "The first time are You Kanney Based Day continues in Windows Art I Made Color (2010)\n",
      "\n",
      "Serving The Tale of The Queen In Boy\n",
      "\n",
      "####################\n",
      "Temperature: 1.0\n",
      "####################\n",
      "Hured the Tied Nate\n",
      "\n",
      "YouTube Minks interviews\n",
      "\n",
      "Absolators For Vita + Nerv\n",
      "\n",
      "5/5 [==============================] - 7s 1s/step - loss: 2.1354 - lr: 0.0040\n",
      "Epoch 2/3\n",
      "5/5 [==============================] - ETA: 0s - loss: 1.6327####################\n",
      "Temperature: 0.2\n",
      "####################\n",
      "The Last Jones\n",
      "\n",
      "The Falling River\n",
      "\n",
      "A First Line\n",
      "\n",
      "####################\n",
      "Temperature: 0.5\n",
      "####################\n",
      "I am trying to have time to someone to have released\n",
      "\n",
      "Servina Support\n",
      "\n",
      "My Voice Trial\n",
      "\n",
      "####################\n",
      "Temperature: 1.0\n",
      "####################\n",
      "Teamma\n",
      "\n",
      "If only 1 true line I wanted to joint his list on the floor in the terer Rabet.\n",
      "\n",
      "Steevax\n",
      "\n",
      "5/5 [==============================] - 4s 997ms/step - loss: 1.6327 - lr: 0.0027\n",
      "Epoch 3/3\n",
      "5/5 [==============================] - ETA: 0s - loss: 1.3966####################\n",
      "Temperature: 0.2\n",
      "####################\n",
      "The Line\n",
      "\n",
      "The Military\n",
      "\n",
      "The Line\n",
      "\n",
      "####################\n",
      "Temperature: 0.5\n",
      "####################\n",
      "Greatest The First Time\n",
      "\n",
      "The Thing Movie\n",
      "\n",
      "One Year\n",
      "\n",
      "####################\n",
      "Temperature: 1.0\n",
      "####################\n",
      "Let's Mean Medic\n",
      "\n",
      "Seven\n",
      "\n",
      "So Apple\n",
      "\n",
      "5/5 [==============================] - 2s 576ms/step - loss: 1.3966 - lr: 0.0013\n"
     ]
    },
    {
     "name": "stderr",
     "output_type": "stream",
     "text": [
      " 20%|██        | 1/5 [00:00<00:01,  3.49it/s]"
     ]
    },
    {
     "name": "stdout",
     "output_type": "stream",
     "text": [
      "New The Invented\n",
      "\n"
     ]
    },
    {
     "name": "stderr",
     "output_type": "stream",
     "text": [
      " 40%|████      | 2/5 [00:00<00:00,  3.76it/s]"
     ]
    },
    {
     "name": "stdout",
     "output_type": "stream",
     "text": [
      "The Spot (Fine)\n",
      "\n"
     ]
    },
    {
     "name": "stderr",
     "output_type": "stream",
     "text": [
      " 60%|██████    | 3/5 [00:01<00:01,  1.67it/s]"
     ]
    },
    {
     "name": "stdout",
     "output_type": "stream",
     "text": [
      "she bouns the park on the past as a work of the United Series\n",
      "\n"
     ]
    },
    {
     "name": "stderr",
     "output_type": "stream",
     "text": [
      " 80%|████████  | 4/5 [00:01<00:00,  2.06it/s]"
     ]
    },
    {
     "name": "stdout",
     "output_type": "stream",
     "text": [
      "The Shield Trumacy\n",
      "\n"
     ]
    },
    {
     "name": "stderr",
     "output_type": "stream",
     "text": [
      "100%|██████████| 5/5 [00:02<00:00,  2.25it/s]"
     ]
    },
    {
     "name": "stdout",
     "output_type": "stream",
     "text": [
      "You Wants You The Sheet\n",
      "\n"
     ]
    },
    {
     "name": "stderr",
     "output_type": "stream",
     "text": [
      "\n"
     ]
    }
   ],
   "source": [
    "textgen = textgenrnn()\n",
    "textgen.train_from_file(\"/Users/shivanimudhelli/Desktop/MLProject/all_tracks.csv\", \n",
    "                        num_epochs=3,\n",
    "                        rnn_bidirectional = True,\n",
    "                        rnn_size = 64,\n",
    "                        dim_embeddings = 300)\n",
    "textgen.generate(5)"
   ]
  },
  {
   "cell_type": "code",
   "execution_count": null,
   "metadata": {},
   "outputs": [],
   "source": []
  }
 ],
 "metadata": {
  "kernelspec": {
   "display_name": "tensorflow",
   "language": "python",
   "name": "python3"
  },
  "language_info": {
   "codemirror_mode": {
    "name": "ipython",
    "version": 3
   },
   "file_extension": ".py",
   "mimetype": "text/x-python",
   "name": "python",
   "nbconvert_exporter": "python",
   "pygments_lexer": "ipython3",
   "version": "3.10.4"
  }
 },
 "nbformat": 4,
 "nbformat_minor": 2
}
